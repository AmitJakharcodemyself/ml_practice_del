{
 "cells": [
  {
   "cell_type": "code",
   "execution_count": 4,
   "metadata": {},
   "outputs": [
    {
     "name": "stdout",
     "output_type": "stream",
     "text": [
      "1\n",
      "[1 2 3 4]\n",
      "[1 5]\n"
     ]
    }
   ],
   "source": [
    "\n",
    "a=np.array([[1,2,3,4],[5,6,7,8]])\n",
    "mn=np.min(a)\n",
    "mx=np.max(a)\n",
    "mn_1=np.min(a,axis=0)\n",
    "mn_2=np.min(a,axis=1)\n",
    "print(mn)\n",
    "print(mn_1)\n",
    "print(mn_2)"
   ]
  },
  {
   "cell_type": "code",
   "execution_count": 2,
   "metadata": {},
   "outputs": [],
   "source": [
    "import numpy as np"
   ]
  },
  {
   "cell_type": "code",
   "execution_count": 5,
   "metadata": {},
   "outputs": [
    {
     "name": "stdout",
     "output_type": "stream",
     "text": [
      "4.5\n",
      "[3. 4. 5. 6.]\n",
      "[2.5 6.5]\n"
     ]
    }
   ],
   "source": [
    "men=np.mean(a)\n",
    "men_1=np.mean(a,axis=0)\n",
    "men_2=np.mean(a,axis=1)\n",
    "print(men)\n",
    "print(men_1)\n",
    "print(men_2)"
   ]
  },
  {
   "cell_type": "code",
   "execution_count": 6,
   "metadata": {},
   "outputs": [
    {
     "name": "stdout",
     "output_type": "stream",
     "text": [
      "4.5\n"
     ]
    }
   ],
   "source": [
    "print(np.median(a)) # median is median element in sorted array"
   ]
  },
  {
   "cell_type": "code",
   "execution_count": 16,
   "metadata": {},
   "outputs": [
    {
     "name": "stdout",
     "output_type": "stream",
     "text": [
      "5.4\n",
      "7.37037037037037\n",
      "5.4\n"
     ]
    }
   ],
   "source": [
    "# mean vs average\n",
    "c=np.array([1,2,7,8,9])\n",
    "print(np.mean(c))\n",
    "#weights\n",
    "wts=np.array([1,2,7,8,9])\n",
    "avg=np.average(c,weights=wts)\n",
    "print(avg)\n",
    "wts_1=np.array([1,1,1,1,1])\n",
    "print(np.average(c,weights=wts_1))"
   ]
  },
  {
   "cell_type": "code",
   "execution_count": 17,
   "metadata": {},
   "outputs": [
    {
     "name": "stdout",
     "output_type": "stream",
     "text": [
      "[-1  0  5  6  7]\n"
     ]
    }
   ],
   "source": [
    "print(c-2) # it is possible"
   ]
  },
  {
   "cell_type": "code",
   "execution_count": 19,
   "metadata": {},
   "outputs": [
    {
     "name": "stdout",
     "output_type": "stream",
     "text": [
      "3.2619012860600183\n",
      "3.2619012860600183\n"
     ]
    }
   ],
   "source": [
    "# standard deviation\n",
    "u=np.mean(c)\n",
    "myStd=np.sqrt(np.mean((c-u)**2))\n",
    "print(myStd)\n",
    " # using Inbuilt function\n",
    "dev=np.std(c)\n",
    "print(dev)"
   ]
  },
  {
   "cell_type": "code",
   "execution_count": 21,
   "metadata": {},
   "outputs": [
    {
     "name": "stdout",
     "output_type": "stream",
     "text": [
      "10.64\n",
      "10.64\n"
     ]
    }
   ],
   "source": [
    "# variance\n",
    "var_=dev**2\n",
    "print(var_)\n",
    "#inbuilt finction\n",
    "var_1=np.var(c)\n",
    "print(var_1)"
   ]
  },
  {
   "cell_type": "code",
   "execution_count": null,
   "metadata": {},
   "outputs": [],
   "source": []
  }
 ],
 "metadata": {
  "kernelspec": {
   "display_name": "Python 3",
   "language": "python",
   "name": "python3"
  },
  "language_info": {
   "codemirror_mode": {
    "name": "ipython",
    "version": 3
   },
   "file_extension": ".py",
   "mimetype": "text/x-python",
   "name": "python",
   "nbconvert_exporter": "python",
   "pygments_lexer": "ipython3",
   "version": "3.7.3"
  }
 },
 "nbformat": 4,
 "nbformat_minor": 4
}
