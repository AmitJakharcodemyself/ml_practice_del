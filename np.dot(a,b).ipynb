{
 "cells": [
  {
   "cell_type": "code",
   "execution_count": 1,
   "metadata": {},
   "outputs": [
    {
     "name": "stdout",
     "output_type": "stream",
     "text": [
      "(2, 3) (3,)\n",
      "(2,)\n",
      "[ 6 15]\n",
      "elements are 6 <class 'numpy.int32'>\n",
      "(3, 1)\n",
      "<class 'numpy.ndarray'>\n",
      "<class 'numpy.ndarray'>\n"
     ]
    },
    {
     "data": {
      "text/plain": [
       "array([[1],\n",
       "       [1],\n",
       "       [1]])"
      ]
     },
     "execution_count": 1,
     "metadata": {},
     "output_type": "execute_result"
    }
   ],
   "source": [
    "import numpy as np\n",
    "X=np.array([[1,2,3],[4,5,6]]) #matrix->(2,3)\n",
    "Y=np.array([1,1,1])# vector -> (3,)\n",
    "Y_mat=Y.reshape((-1,1))\n",
    "print(X.shape,Y.shape)\n",
    "result_1=np.dot(X,Y.T)\n",
    "print(result_1.shape)\n",
    "print(result_1)\n",
    "# access elements of result_1 \n",
    "print(\"elements are\",result_1[0],type(result_1[0]))\n",
    "print(Y_mat.shape)\n",
    "print(type(Y))\n",
    "print(type(Y_mat))\n",
    "Y_mat\n",
    "# NOTE-=> np.dot Documention"
   ]
  },
  {
   "cell_type": "code",
   "execution_count": 2,
   "metadata": {},
   "outputs": [
    {
     "name": "stdout",
     "output_type": "stream",
     "text": [
      "<class 'numpy.ndarray'>\n",
      "(2,)\n",
      "[1 1 1]\n",
      "(3,)\n",
      "<class 'numpy.ndarray'>\n"
     ]
    }
   ],
   "source": [
    "mt=np.dot(X,Y.T)\n",
    "print(type(np.dot(X,Y.T)))\n",
    "print(mt.shape)# is also a vector\n",
    "print(Y.T)\n",
    "print(Y.T.shape)\n",
    "print(type(Y.T))\n"
   ]
  },
  {
   "cell_type": "code",
   "execution_count": 3,
   "metadata": {},
   "outputs": [
    {
     "name": "stdout",
     "output_type": "stream",
     "text": [
      "[ 6 15]\n"
     ]
    }
   ],
   "source": [
    "print(np.dot(X,Y))# x-> (2,3) and Y-> a vector(like (1,3))\n",
    "# so can multiply X"
   ]
  },
  {
   "cell_type": "code",
   "execution_count": 4,
   "metadata": {},
   "outputs": [
    {
     "name": "stdout",
     "output_type": "stream",
     "text": [
      "[ 6 15]\n",
      "[ 6 15]\n",
      "[ 6 15]\n"
     ]
    }
   ],
   "source": [
    "print(np.dot(X,Y.T))# all are same\n",
    "print(np.dot(X,Y.T))\n",
    "print(np.dot(X,Y))"
   ]
  },
  {
   "cell_type": "code",
   "execution_count": 5,
   "metadata": {},
   "outputs": [],
   "source": [
    "# NOTE-> np.dot(matrix,vector) then vector ill change it;s shape according to the rule of matrox\n",
    "# multiplication"
   ]
  },
  {
   "cell_type": "code",
   "execution_count": 6,
   "metadata": {},
   "outputs": [
    {
     "name": "stdout",
     "output_type": "stream",
     "text": [
      "[1 1 1]\n",
      "(3,) (3,)\n"
     ]
    }
   ],
   "source": [
    "print(Y)\n",
    "print(Y.shape,Y.T.shape)\n",
    "# vector and it;s transpose's shape remain same"
   ]
  },
  {
   "cell_type": "code",
   "execution_count": 7,
   "metadata": {},
   "outputs": [
    {
     "name": "stdout",
     "output_type": "stream",
     "text": [
      "(2,) (2, 3)\n"
     ]
    },
    {
     "ename": "ValueError",
     "evalue": "shapes (2,3) and (2,) not aligned: 3 (dim 1) != 2 (dim 0)",
     "output_type": "error",
     "traceback": [
      "\u001b[1;31m---------------------------------------------------------------------------\u001b[0m",
      "\u001b[1;31mValueError\u001b[0m                                Traceback (most recent call last)",
      "\u001b[1;32m<ipython-input-7-94916c11ef4d>\u001b[0m in \u001b[0;36m<module>\u001b[1;34m\u001b[0m\n\u001b[0;32m      4\u001b[0m \u001b[0mprint\u001b[0m\u001b[1;33m(\u001b[0m\u001b[0mY__\u001b[0m\u001b[1;33m.\u001b[0m\u001b[0mshape\u001b[0m\u001b[1;33m,\u001b[0m\u001b[0mX\u001b[0m\u001b[1;33m.\u001b[0m\u001b[0mshape\u001b[0m\u001b[1;33m)\u001b[0m\u001b[1;33m\u001b[0m\u001b[1;33m\u001b[0m\u001b[0m\n\u001b[0;32m      5\u001b[0m \u001b[1;31m#print(np.dot(X,Y__))\u001b[0m\u001b[1;33m\u001b[0m\u001b[1;33m\u001b[0m\u001b[1;33m\u001b[0m\u001b[0m\n\u001b[1;32m----> 6\u001b[1;33m \u001b[0mprint\u001b[0m\u001b[1;33m(\u001b[0m\u001b[0mnp\u001b[0m\u001b[1;33m.\u001b[0m\u001b[0mdot\u001b[0m\u001b[1;33m(\u001b[0m\u001b[0mX\u001b[0m\u001b[1;33m,\u001b[0m\u001b[0mY__\u001b[0m\u001b[1;33m.\u001b[0m\u001b[0mT\u001b[0m\u001b[1;33m)\u001b[0m\u001b[1;33m)\u001b[0m\u001b[1;33m\u001b[0m\u001b[1;33m\u001b[0m\u001b[0m\n\u001b[0m",
      "\u001b[1;32m<__array_function__ internals>\u001b[0m in \u001b[0;36mdot\u001b[1;34m(*args, **kwargs)\u001b[0m\n",
      "\u001b[1;31mValueError\u001b[0m: shapes (2,3) and (2,) not aligned: 3 (dim 1) != 2 (dim 0)"
     ]
    }
   ],
   "source": [
    "# NOTE-> np.dot(matrix,vector) then vector ill change it;s shape according to the rule of matrox\n",
    "# multiplication\n",
    "Y__=np.array([1,2])# vector-> (2,)\n",
    "print(Y__.shape,X.shape)\n",
    "#print(np.dot(X,Y__))\n",
    "print(np.dot(X,Y__.T))"
   ]
  },
  {
   "cell_type": "code",
   "execution_count": 8,
   "metadata": {},
   "outputs": [
    {
     "name": "stdout",
     "output_type": "stream",
     "text": [
      "[ 9 12 15]\n",
      "[ 9 12 15]\n"
     ]
    }
   ],
   "source": [
    "# (2,3) and (2,) -> not valid in np.dot(a,b)\n",
    "# But (2,) and (2,3) are\n",
    "# and also X.T (3,2) and (2,) are also valid\n",
    "print(np.dot(Y__,X))# return a vector not a matrix of (3,1)\n",
    "print(np.dot(X.T,Y__))"
   ]
  },
  {
   "cell_type": "code",
   "execution_count": 9,
   "metadata": {},
   "outputs": [
    {
     "name": "stdout",
     "output_type": "stream",
     "text": [
      "(2, 3)\n",
      "(3, 1)\n",
      "(2, 1)\n",
      "[[24]\n",
      " [60]]\n"
     ]
    }
   ],
   "source": [
    "# np.dot(a,b)-> if both are 1-D matrix not vector then it'll return\n",
    "XX=np.array([[1,2,3],[4,5,6]])\n",
    "print(XX.shape)\n",
    "YY=np.array([[4],[4],[4]])\n",
    "print(YY.shape)\n",
    "# matrix multiplication\n",
    "\n",
    "mx=np.dot(XX,YY) # not a vector it's a matrix of (2,1)\n",
    "print(mx.shape)\n",
    "print(mx)"
   ]
  },
  {
   "cell_type": "code",
   "execution_count": null,
   "metadata": {},
   "outputs": [],
   "source": [
    "# add something"
   ]
  }
 ],
 "metadata": {
  "kernelspec": {
   "display_name": "Python 3",
   "language": "python",
   "name": "python3"
  },
  "language_info": {
   "codemirror_mode": {
    "name": "ipython",
    "version": 3
   },
   "file_extension": ".py",
   "mimetype": "text/x-python",
   "name": "python",
   "nbconvert_exporter": "python",
   "pygments_lexer": "ipython3",
   "version": "3.7.3"
  }
 },
 "nbformat": 4,
 "nbformat_minor": 4
}
