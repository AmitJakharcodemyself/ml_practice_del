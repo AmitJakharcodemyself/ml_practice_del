{
 "cells": [
  {
   "cell_type": "code",
   "execution_count": 1,
   "metadata": {},
   "outputs": [
    {
     "name": "stdout",
     "output_type": "stream",
     "text": [
      "(2, 3) (3,)\n",
      "(2,)\n",
      "[ 6 15]\n",
      "elements are 6 <class 'numpy.int32'>\n",
      "(3, 1)\n",
      "<class 'numpy.ndarray'>\n",
      "<class 'numpy.ndarray'>\n"
     ]
    },
    {
     "data": {
      "text/plain": [
       "array([[1],\n",
       "       [1],\n",
       "       [1]])"
      ]
     },
     "execution_count": 1,
     "metadata": {},
     "output_type": "execute_result"
    }
   ],
   "source": [
    "import numpy as np\n",
    "X=np.array([[1,2,3],[4,5,6]]) #matrix->(2,3)\n",
    "Y=np.array([1,1,1])# vector -> (3,)\n",
    "Y_mat=Y.reshape((-1,1))\n",
    "print(X.shape,Y.shape)\n",
    "result_1=np.dot(X,Y.T)\n",
    "print(result_1.shape)\n",
    "print(result_1)\n",
    "# access elements of result_1 \n",
    "print(\"elements are\",result_1[0],type(result_1[0]))\n",
    "print(Y_mat.shape)\n",
    "print(type(Y))\n",
    "print(type(Y_mat))\n",
    "Y_mat\n",
    "# NOTE-=> np.dot Documention"
   ]
  },
  {
   "cell_type": "code",
   "execution_count": 2,
   "metadata": {},
   "outputs": [
    {
     "name": "stdout",
     "output_type": "stream",
     "text": [
      "<class 'numpy.ndarray'>\n",
      "(2,)\n",
      "[1 1 1]\n",
      "(3,)\n",
      "<class 'numpy.ndarray'>\n"
     ]
    }
   ],
   "source": [
    "mt=np.dot(X,Y.T)\n",
    "print(type(np.dot(X,Y.T)))\n",
    "print(mt.shape)# is also a vector\n",
    "print(Y.T)\n",
    "print(Y.T.shape)\n",
    "print(type(Y.T))\n"
   ]
  },
  {
   "cell_type": "code",
   "execution_count": 3,
   "metadata": {},
   "outputs": [
    {
     "name": "stdout",
     "output_type": "stream",
     "text": [
      "[ 6 15]\n"
     ]
    }
   ],
   "source": [
    "print(np.dot(X,Y))# x-> (2,3) and Y-> a vector(like (1,3))\n",
    "# so can multiply X"
   ]
  },
  {
   "cell_type": "code",
   "execution_count": 4,
   "metadata": {},
   "outputs": [
    {
     "name": "stdout",
     "output_type": "stream",
     "text": [
      "[ 6 15]\n",
      "[ 6 15]\n",
      "[ 6 15]\n"
     ]
    }
   ],
   "source": [
    "print(np.dot(X,Y.T))# all are same\n",
    "print(np.dot(X,Y.T))\n",
    "print(np.dot(X,Y))"
   ]
  },
  {
   "cell_type": "code",
   "execution_count": 5,
   "metadata": {},
   "outputs": [],
   "source": [
    "# NOTE-> np.dot(matrix,vector) then vector ill change it;s shape according to the rule of matrox\n",
    "# multiplication"
   ]
  },
  {
   "cell_type": "code",
   "execution_count": null,
   "metadata": {},
   "outputs": [],
   "source": []
  }
 ],
 "metadata": {
  "kernelspec": {
   "display_name": "Python 3",
   "language": "python",
   "name": "python3"
  },
  "language_info": {
   "codemirror_mode": {
    "name": "ipython",
    "version": 3
   },
   "file_extension": ".py",
   "mimetype": "text/x-python",
   "name": "python",
   "nbconvert_exporter": "python",
   "pygments_lexer": "ipython3",
   "version": "3.7.3"
  }
 },
 "nbformat": 4,
 "nbformat_minor": 4
}
