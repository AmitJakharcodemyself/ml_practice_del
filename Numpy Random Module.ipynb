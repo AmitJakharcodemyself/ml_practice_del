{
 "cells": [
  {
   "cell_type": "code",
   "execution_count": 4,
   "metadata": {},
   "outputs": [
    {
     "data": {
      "text/plain": [
       "array([ 5,  6,  7,  8,  9, 10, 11, 12, 13, 14])"
      ]
     },
     "execution_count": 4,
     "metadata": {},
     "output_type": "execute_result"
    }
   ],
   "source": [
    "import numpy as np\n",
    "a=np.arange(10) +5 # indexing starts from 5\n",
    "a"
   ]
  },
  {
   "cell_type": "code",
   "execution_count": 5,
   "metadata": {},
   "outputs": [
    {
     "name": "stdout",
     "output_type": "stream",
     "text": [
      "[ 5  6  7  8  9 10 11 12 13 14]\n",
      "<class 'numpy.ndarray'>\n"
     ]
    }
   ],
   "source": [
    "print(a)\n",
    "print(type(a))"
   ]
  },
  {
   "cell_type": "code",
   "execution_count": 16,
   "metadata": {
    "scrolled": true
   },
   "outputs": [
    {
     "name": "stdout",
     "output_type": "stream",
     "text": [
      "[0 1 2 3 4 5 6 7 8 9]\n",
      "[1 9 3 0 7 2 6 5 4 8]\n"
     ]
    }
   ],
   "source": [
    "#Use of np.random module\n",
    "#1 shuffle\n",
    "import numpy as np\n",
    "a=np.arange(10)\n",
    "print(a)\n",
    "np.random.shuffle(a)\n",
    "print(a)"
   ]
  },
  {
   "cell_type": "code",
   "execution_count": 17,
   "metadata": {},
   "outputs": [
    {
     "name": "stdout",
     "output_type": "stream",
     "text": [
      "[[0.07373954 0.61419956 0.30395091]\n",
      " [0.60201575 0.22331125 0.8160053 ]]\n",
      "[[ 0.2389481   0.69005814 -1.13870478]\n",
      " [-0.78762076  0.85003786 -0.10003689]]\n"
     ]
    }
   ],
   "source": [
    "a_1=np.random.rand(2,3)\n",
    "print(a_1)\n",
    "a_2=np.random.randn(2,3)\n",
    "print(a_2)"
   ]
  },
  {
   "cell_type": "code",
   "execution_count": 20,
   "metadata": {},
   "outputs": [
    {
     "name": "stdout",
     "output_type": "stream",
     "text": [
      "[3 2 5 3]\n",
      "<class 'numpy.ndarray'>\n"
     ]
    }
   ],
   "source": [
    "# returns random integers(in  from of array => random integer array) from given range ando no of integers we want \n",
    "a_3=np.random.randint(2,6,4)\n",
    "print(a_3)\n",
    "print(type(a_3))"
   ]
  },
  {
   "cell_type": "code",
   "execution_count": 27,
   "metadata": {},
   "outputs": [
    {
     "name": "stdout",
     "output_type": "stream",
     "text": [
      "54\n",
      "1\n"
     ]
    }
   ],
   "source": [
    "# pick one random element form given DS(only list and tuple::: can't use foe set and dict)\n",
    "element_1=np.random.choice([1,2,3,4,54,5])\n",
    " #elememt_2=np.random.choice({1,2,3,4,4})\n",
    "#element_3=np.random.choice({\"name\":\"amit\",\"last_name\":\"jakhar\",\"roll_no\":182106})\n",
    "print(element_1)\n",
    "element_4=np.random.choice((1,2,3,4))\n",
    "#print(element_2)\n",
    "print(element_4)\n",
    "#element_5=np.random.choice(1,2,3,4,43)\n",
    "#print(element_5)"
   ]
  },
  {
   "cell_type": "code",
   "execution_count": null,
   "metadata": {},
   "outputs": [],
   "source": []
  }
 ],
 "metadata": {
  "kernelspec": {
   "display_name": "Python 3",
   "language": "python",
   "name": "python3"
  },
  "language_info": {
   "codemirror_mode": {
    "name": "ipython",
    "version": 3
   },
   "file_extension": ".py",
   "mimetype": "text/x-python",
   "name": "python",
   "nbconvert_exporter": "python",
   "pygments_lexer": "ipython3",
   "version": "3.7.3"
  }
 },
 "nbformat": 4,
 "nbformat_minor": 4
}
